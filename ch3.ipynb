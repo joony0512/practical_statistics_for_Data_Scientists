{
  "nbformat": 4,
  "nbformat_minor": 0,
  "metadata": {
    "colab": {
      "provenance": [],
      "authorship_tag": "ABX9TyMM2c8R8dmw6OH03uGVyKU3",
      "include_colab_link": true
    },
    "kernelspec": {
      "name": "python3",
      "display_name": "Python 3"
    },
    "language_info": {
      "name": "python"
    },
    "accelerator": "GPU",
    "gpuClass": "standard"
  },
  "cells": [
    {
      "cell_type": "markdown",
      "metadata": {
        "id": "view-in-github",
        "colab_type": "text"
      },
      "source": [
        "<a href=\"https://colab.research.google.com/github/joony0512/practical_statistics_for_Data_Scientists/blob/main/ch3.ipynb\" target=\"_parent\"><img src=\"https://colab.research.google.com/assets/colab-badge.svg\" alt=\"Open In Colab\"/></a>"
      ]
    },
    {
      "cell_type": "code",
      "execution_count": 3,
      "metadata": {
        "id": "2lu7gL2sfo2d"
      },
      "outputs": [],
      "source": [
        "import numpy as np\n",
        "import pandas as pd\n",
        "import matplotlib.pyplot as plt\n",
        "import seaborn as sns"
      ]
    },
    {
      "cell_type": "code",
      "source": [
        "feed =pd.read_csv('feed.csv')\n",
        "feed"
      ],
      "metadata": {
        "colab": {
          "base_uri": "https://localhost:8080/",
          "height": 206
        },
        "id": "F5U10Cw5f2qf",
        "outputId": "3a5affbe-fa84-48b5-9c84-8daffd1328c4"
      },
      "execution_count": 42,
      "outputs": [
        {
          "output_type": "execute_result",
          "data": {
            "text/plain": [
              "   Feed1  Feed2  Feed3  Feed4\n",
              "0   60.8   68.7   69.6   61.9\n",
              "1   67.0   67.7   77.1   64.2\n",
              "2   65.0   75.0   75.2   63.1\n",
              "3   68.6   73.3   71.5   66.7\n",
              "4   61.7   71.8    NaN   60.3"
            ],
            "text/html": [
              "\n",
              "  <div id=\"df-0bfd11bd-b14f-4bc0-b991-50979abfb1aa\">\n",
              "    <div class=\"colab-df-container\">\n",
              "      <div>\n",
              "<style scoped>\n",
              "    .dataframe tbody tr th:only-of-type {\n",
              "        vertical-align: middle;\n",
              "    }\n",
              "\n",
              "    .dataframe tbody tr th {\n",
              "        vertical-align: top;\n",
              "    }\n",
              "\n",
              "    .dataframe thead th {\n",
              "        text-align: right;\n",
              "    }\n",
              "</style>\n",
              "<table border=\"1\" class=\"dataframe\">\n",
              "  <thead>\n",
              "    <tr style=\"text-align: right;\">\n",
              "      <th></th>\n",
              "      <th>Feed1</th>\n",
              "      <th>Feed2</th>\n",
              "      <th>Feed3</th>\n",
              "      <th>Feed4</th>\n",
              "    </tr>\n",
              "  </thead>\n",
              "  <tbody>\n",
              "    <tr>\n",
              "      <th>0</th>\n",
              "      <td>60.8</td>\n",
              "      <td>68.7</td>\n",
              "      <td>69.6</td>\n",
              "      <td>61.9</td>\n",
              "    </tr>\n",
              "    <tr>\n",
              "      <th>1</th>\n",
              "      <td>67.0</td>\n",
              "      <td>67.7</td>\n",
              "      <td>77.1</td>\n",
              "      <td>64.2</td>\n",
              "    </tr>\n",
              "    <tr>\n",
              "      <th>2</th>\n",
              "      <td>65.0</td>\n",
              "      <td>75.0</td>\n",
              "      <td>75.2</td>\n",
              "      <td>63.1</td>\n",
              "    </tr>\n",
              "    <tr>\n",
              "      <th>3</th>\n",
              "      <td>68.6</td>\n",
              "      <td>73.3</td>\n",
              "      <td>71.5</td>\n",
              "      <td>66.7</td>\n",
              "    </tr>\n",
              "    <tr>\n",
              "      <th>4</th>\n",
              "      <td>61.7</td>\n",
              "      <td>71.8</td>\n",
              "      <td>NaN</td>\n",
              "      <td>60.3</td>\n",
              "    </tr>\n",
              "  </tbody>\n",
              "</table>\n",
              "</div>\n",
              "      <button class=\"colab-df-convert\" onclick=\"convertToInteractive('df-0bfd11bd-b14f-4bc0-b991-50979abfb1aa')\"\n",
              "              title=\"Convert this dataframe to an interactive table.\"\n",
              "              style=\"display:none;\">\n",
              "        \n",
              "  <svg xmlns=\"http://www.w3.org/2000/svg\" height=\"24px\"viewBox=\"0 0 24 24\"\n",
              "       width=\"24px\">\n",
              "    <path d=\"M0 0h24v24H0V0z\" fill=\"none\"/>\n",
              "    <path d=\"M18.56 5.44l.94 2.06.94-2.06 2.06-.94-2.06-.94-.94-2.06-.94 2.06-2.06.94zm-11 1L8.5 8.5l.94-2.06 2.06-.94-2.06-.94L8.5 2.5l-.94 2.06-2.06.94zm10 10l.94 2.06.94-2.06 2.06-.94-2.06-.94-.94-2.06-.94 2.06-2.06.94z\"/><path d=\"M17.41 7.96l-1.37-1.37c-.4-.4-.92-.59-1.43-.59-.52 0-1.04.2-1.43.59L10.3 9.45l-7.72 7.72c-.78.78-.78 2.05 0 2.83L4 21.41c.39.39.9.59 1.41.59.51 0 1.02-.2 1.41-.59l7.78-7.78 2.81-2.81c.8-.78.8-2.07 0-2.86zM5.41 20L4 18.59l7.72-7.72 1.47 1.35L5.41 20z\"/>\n",
              "  </svg>\n",
              "      </button>\n",
              "      \n",
              "  <style>\n",
              "    .colab-df-container {\n",
              "      display:flex;\n",
              "      flex-wrap:wrap;\n",
              "      gap: 12px;\n",
              "    }\n",
              "\n",
              "    .colab-df-convert {\n",
              "      background-color: #E8F0FE;\n",
              "      border: none;\n",
              "      border-radius: 50%;\n",
              "      cursor: pointer;\n",
              "      display: none;\n",
              "      fill: #1967D2;\n",
              "      height: 32px;\n",
              "      padding: 0 0 0 0;\n",
              "      width: 32px;\n",
              "    }\n",
              "\n",
              "    .colab-df-convert:hover {\n",
              "      background-color: #E2EBFA;\n",
              "      box-shadow: 0px 1px 2px rgba(60, 64, 67, 0.3), 0px 1px 3px 1px rgba(60, 64, 67, 0.15);\n",
              "      fill: #174EA6;\n",
              "    }\n",
              "\n",
              "    [theme=dark] .colab-df-convert {\n",
              "      background-color: #3B4455;\n",
              "      fill: #D2E3FC;\n",
              "    }\n",
              "\n",
              "    [theme=dark] .colab-df-convert:hover {\n",
              "      background-color: #434B5C;\n",
              "      box-shadow: 0px 1px 3px 1px rgba(0, 0, 0, 0.15);\n",
              "      filter: drop-shadow(0px 1px 2px rgba(0, 0, 0, 0.3));\n",
              "      fill: #FFFFFF;\n",
              "    }\n",
              "  </style>\n",
              "\n",
              "      <script>\n",
              "        const buttonEl =\n",
              "          document.querySelector('#df-0bfd11bd-b14f-4bc0-b991-50979abfb1aa button.colab-df-convert');\n",
              "        buttonEl.style.display =\n",
              "          google.colab.kernel.accessAllowed ? 'block' : 'none';\n",
              "\n",
              "        async function convertToInteractive(key) {\n",
              "          const element = document.querySelector('#df-0bfd11bd-b14f-4bc0-b991-50979abfb1aa');\n",
              "          const dataTable =\n",
              "            await google.colab.kernel.invokeFunction('convertToInteractive',\n",
              "                                                     [key], {});\n",
              "          if (!dataTable) return;\n",
              "\n",
              "          const docLinkHtml = 'Like what you see? Visit the ' +\n",
              "            '<a target=\"_blank\" href=https://colab.research.google.com/notebooks/data_table.ipynb>data table notebook</a>'\n",
              "            + ' to learn more about interactive tables.';\n",
              "          element.innerHTML = '';\n",
              "          dataTable['output_type'] = 'display_data';\n",
              "          await google.colab.output.renderOutput(dataTable, element);\n",
              "          const docLink = document.createElement('div');\n",
              "          docLink.innerHTML = docLinkHtml;\n",
              "          element.appendChild(docLink);\n",
              "        }\n",
              "      </script>\n",
              "    </div>\n",
              "  </div>\n",
              "  "
            ]
          },
          "metadata": {},
          "execution_count": 42
        }
      ]
    },
    {
      "cell_type": "code",
      "source": [
        "birthwt = pd.read_csv('birthwt.csv')\n",
        "birthwt"
      ],
      "metadata": {
        "colab": {
          "base_uri": "https://localhost:8080/",
          "height": 423
        },
        "id": "gtKBvaIRf_yW",
        "outputId": "13ac5c05-a330-4498-a907-0bab26fc6088"
      },
      "execution_count": 5,
      "outputs": [
        {
          "output_type": "execute_result",
          "data": {
            "text/plain": [
              "     low  age  lwt  race  smoke  ptl  ht  ui  ftv   bwt\n",
              "0      0   19  182     2      0    0   0   1    0  2523\n",
              "1      0   33  155     3      0    0   0   0    3  2551\n",
              "2      0   20  105     1      1    0   0   0    1  2557\n",
              "3      0   21  108     1      1    0   0   1    2  2594\n",
              "4      0   18  107     1      1    0   0   1    0  2600\n",
              "..   ...  ...  ...   ...    ...  ...  ..  ..  ...   ...\n",
              "184    1   28   95     1      1    0   0   0    2  2466\n",
              "185    1   14  100     3      0    0   0   0    2  2495\n",
              "186    1   23   94     3      1    0   0   0    0  2495\n",
              "187    1   17  142     2      0    0   1   0    0  2495\n",
              "188    1   21  130     1      1    0   1   0    3  2495\n",
              "\n",
              "[189 rows x 10 columns]"
            ],
            "text/html": [
              "\n",
              "  <div id=\"df-c7534434-1537-4b4d-aae9-bbf0f2b1d02d\">\n",
              "    <div class=\"colab-df-container\">\n",
              "      <div>\n",
              "<style scoped>\n",
              "    .dataframe tbody tr th:only-of-type {\n",
              "        vertical-align: middle;\n",
              "    }\n",
              "\n",
              "    .dataframe tbody tr th {\n",
              "        vertical-align: top;\n",
              "    }\n",
              "\n",
              "    .dataframe thead th {\n",
              "        text-align: right;\n",
              "    }\n",
              "</style>\n",
              "<table border=\"1\" class=\"dataframe\">\n",
              "  <thead>\n",
              "    <tr style=\"text-align: right;\">\n",
              "      <th></th>\n",
              "      <th>low</th>\n",
              "      <th>age</th>\n",
              "      <th>lwt</th>\n",
              "      <th>race</th>\n",
              "      <th>smoke</th>\n",
              "      <th>ptl</th>\n",
              "      <th>ht</th>\n",
              "      <th>ui</th>\n",
              "      <th>ftv</th>\n",
              "      <th>bwt</th>\n",
              "    </tr>\n",
              "  </thead>\n",
              "  <tbody>\n",
              "    <tr>\n",
              "      <th>0</th>\n",
              "      <td>0</td>\n",
              "      <td>19</td>\n",
              "      <td>182</td>\n",
              "      <td>2</td>\n",
              "      <td>0</td>\n",
              "      <td>0</td>\n",
              "      <td>0</td>\n",
              "      <td>1</td>\n",
              "      <td>0</td>\n",
              "      <td>2523</td>\n",
              "    </tr>\n",
              "    <tr>\n",
              "      <th>1</th>\n",
              "      <td>0</td>\n",
              "      <td>33</td>\n",
              "      <td>155</td>\n",
              "      <td>3</td>\n",
              "      <td>0</td>\n",
              "      <td>0</td>\n",
              "      <td>0</td>\n",
              "      <td>0</td>\n",
              "      <td>3</td>\n",
              "      <td>2551</td>\n",
              "    </tr>\n",
              "    <tr>\n",
              "      <th>2</th>\n",
              "      <td>0</td>\n",
              "      <td>20</td>\n",
              "      <td>105</td>\n",
              "      <td>1</td>\n",
              "      <td>1</td>\n",
              "      <td>0</td>\n",
              "      <td>0</td>\n",
              "      <td>0</td>\n",
              "      <td>1</td>\n",
              "      <td>2557</td>\n",
              "    </tr>\n",
              "    <tr>\n",
              "      <th>3</th>\n",
              "      <td>0</td>\n",
              "      <td>21</td>\n",
              "      <td>108</td>\n",
              "      <td>1</td>\n",
              "      <td>1</td>\n",
              "      <td>0</td>\n",
              "      <td>0</td>\n",
              "      <td>1</td>\n",
              "      <td>2</td>\n",
              "      <td>2594</td>\n",
              "    </tr>\n",
              "    <tr>\n",
              "      <th>4</th>\n",
              "      <td>0</td>\n",
              "      <td>18</td>\n",
              "      <td>107</td>\n",
              "      <td>1</td>\n",
              "      <td>1</td>\n",
              "      <td>0</td>\n",
              "      <td>0</td>\n",
              "      <td>1</td>\n",
              "      <td>0</td>\n",
              "      <td>2600</td>\n",
              "    </tr>\n",
              "    <tr>\n",
              "      <th>...</th>\n",
              "      <td>...</td>\n",
              "      <td>...</td>\n",
              "      <td>...</td>\n",
              "      <td>...</td>\n",
              "      <td>...</td>\n",
              "      <td>...</td>\n",
              "      <td>...</td>\n",
              "      <td>...</td>\n",
              "      <td>...</td>\n",
              "      <td>...</td>\n",
              "    </tr>\n",
              "    <tr>\n",
              "      <th>184</th>\n",
              "      <td>1</td>\n",
              "      <td>28</td>\n",
              "      <td>95</td>\n",
              "      <td>1</td>\n",
              "      <td>1</td>\n",
              "      <td>0</td>\n",
              "      <td>0</td>\n",
              "      <td>0</td>\n",
              "      <td>2</td>\n",
              "      <td>2466</td>\n",
              "    </tr>\n",
              "    <tr>\n",
              "      <th>185</th>\n",
              "      <td>1</td>\n",
              "      <td>14</td>\n",
              "      <td>100</td>\n",
              "      <td>3</td>\n",
              "      <td>0</td>\n",
              "      <td>0</td>\n",
              "      <td>0</td>\n",
              "      <td>0</td>\n",
              "      <td>2</td>\n",
              "      <td>2495</td>\n",
              "    </tr>\n",
              "    <tr>\n",
              "      <th>186</th>\n",
              "      <td>1</td>\n",
              "      <td>23</td>\n",
              "      <td>94</td>\n",
              "      <td>3</td>\n",
              "      <td>1</td>\n",
              "      <td>0</td>\n",
              "      <td>0</td>\n",
              "      <td>0</td>\n",
              "      <td>0</td>\n",
              "      <td>2495</td>\n",
              "    </tr>\n",
              "    <tr>\n",
              "      <th>187</th>\n",
              "      <td>1</td>\n",
              "      <td>17</td>\n",
              "      <td>142</td>\n",
              "      <td>2</td>\n",
              "      <td>0</td>\n",
              "      <td>0</td>\n",
              "      <td>1</td>\n",
              "      <td>0</td>\n",
              "      <td>0</td>\n",
              "      <td>2495</td>\n",
              "    </tr>\n",
              "    <tr>\n",
              "      <th>188</th>\n",
              "      <td>1</td>\n",
              "      <td>21</td>\n",
              "      <td>130</td>\n",
              "      <td>1</td>\n",
              "      <td>1</td>\n",
              "      <td>0</td>\n",
              "      <td>1</td>\n",
              "      <td>0</td>\n",
              "      <td>3</td>\n",
              "      <td>2495</td>\n",
              "    </tr>\n",
              "  </tbody>\n",
              "</table>\n",
              "<p>189 rows × 10 columns</p>\n",
              "</div>\n",
              "      <button class=\"colab-df-convert\" onclick=\"convertToInteractive('df-c7534434-1537-4b4d-aae9-bbf0f2b1d02d')\"\n",
              "              title=\"Convert this dataframe to an interactive table.\"\n",
              "              style=\"display:none;\">\n",
              "        \n",
              "  <svg xmlns=\"http://www.w3.org/2000/svg\" height=\"24px\"viewBox=\"0 0 24 24\"\n",
              "       width=\"24px\">\n",
              "    <path d=\"M0 0h24v24H0V0z\" fill=\"none\"/>\n",
              "    <path d=\"M18.56 5.44l.94 2.06.94-2.06 2.06-.94-2.06-.94-.94-2.06-.94 2.06-2.06.94zm-11 1L8.5 8.5l.94-2.06 2.06-.94-2.06-.94L8.5 2.5l-.94 2.06-2.06.94zm10 10l.94 2.06.94-2.06 2.06-.94-2.06-.94-.94-2.06-.94 2.06-2.06.94z\"/><path d=\"M17.41 7.96l-1.37-1.37c-.4-.4-.92-.59-1.43-.59-.52 0-1.04.2-1.43.59L10.3 9.45l-7.72 7.72c-.78.78-.78 2.05 0 2.83L4 21.41c.39.39.9.59 1.41.59.51 0 1.02-.2 1.41-.59l7.78-7.78 2.81-2.81c.8-.78.8-2.07 0-2.86zM5.41 20L4 18.59l7.72-7.72 1.47 1.35L5.41 20z\"/>\n",
              "  </svg>\n",
              "      </button>\n",
              "      \n",
              "  <style>\n",
              "    .colab-df-container {\n",
              "      display:flex;\n",
              "      flex-wrap:wrap;\n",
              "      gap: 12px;\n",
              "    }\n",
              "\n",
              "    .colab-df-convert {\n",
              "      background-color: #E8F0FE;\n",
              "      border: none;\n",
              "      border-radius: 50%;\n",
              "      cursor: pointer;\n",
              "      display: none;\n",
              "      fill: #1967D2;\n",
              "      height: 32px;\n",
              "      padding: 0 0 0 0;\n",
              "      width: 32px;\n",
              "    }\n",
              "\n",
              "    .colab-df-convert:hover {\n",
              "      background-color: #E2EBFA;\n",
              "      box-shadow: 0px 1px 2px rgba(60, 64, 67, 0.3), 0px 1px 3px 1px rgba(60, 64, 67, 0.15);\n",
              "      fill: #174EA6;\n",
              "    }\n",
              "\n",
              "    [theme=dark] .colab-df-convert {\n",
              "      background-color: #3B4455;\n",
              "      fill: #D2E3FC;\n",
              "    }\n",
              "\n",
              "    [theme=dark] .colab-df-convert:hover {\n",
              "      background-color: #434B5C;\n",
              "      box-shadow: 0px 1px 3px 1px rgba(0, 0, 0, 0.15);\n",
              "      filter: drop-shadow(0px 1px 2px rgba(0, 0, 0, 0.3));\n",
              "      fill: #FFFFFF;\n",
              "    }\n",
              "  </style>\n",
              "\n",
              "      <script>\n",
              "        const buttonEl =\n",
              "          document.querySelector('#df-c7534434-1537-4b4d-aae9-bbf0f2b1d02d button.colab-df-convert');\n",
              "        buttonEl.style.display =\n",
              "          google.colab.kernel.accessAllowed ? 'block' : 'none';\n",
              "\n",
              "        async function convertToInteractive(key) {\n",
              "          const element = document.querySelector('#df-c7534434-1537-4b4d-aae9-bbf0f2b1d02d');\n",
              "          const dataTable =\n",
              "            await google.colab.kernel.invokeFunction('convertToInteractive',\n",
              "                                                     [key], {});\n",
              "          if (!dataTable) return;\n",
              "\n",
              "          const docLinkHtml = 'Like what you see? Visit the ' +\n",
              "            '<a target=\"_blank\" href=https://colab.research.google.com/notebooks/data_table.ipynb>data table notebook</a>'\n",
              "            + ' to learn more about interactive tables.';\n",
              "          element.innerHTML = '';\n",
              "          dataTable['output_type'] = 'display_data';\n",
              "          await google.colab.output.renderOutput(dataTable, element);\n",
              "          const docLink = document.createElement('div');\n",
              "          docLink.innerHTML = docLinkHtml;\n",
              "          element.appendChild(docLink);\n",
              "        }\n",
              "      </script>\n",
              "    </div>\n",
              "  </div>\n",
              "  "
            ]
          },
          "metadata": {},
          "execution_count": 5
        }
      ]
    },
    {
      "cell_type": "code",
      "source": [
        "#1-1 미숙아여부(low) - 엄마의 몸무게(lwt)\n",
        "fig, ax = plt.subplots()\n",
        "low_lwt = sns.boxplot(x=birthwt['low'], y = birthwt['lwt'])\n",
        "plt.title('low_lwt')\n",
        "plt.show()"
      ],
      "metadata": {
        "colab": {
          "base_uri": "https://localhost:8080/",
          "height": 472
        },
        "id": "S78JQu4lgBcE",
        "outputId": "cfaff8ff-ca58-456d-bfb4-e85ed2dcfc50"
      },
      "execution_count": 6,
      "outputs": [
        {
          "output_type": "display_data",
          "data": {
            "text/plain": [
              "<Figure size 640x480 with 1 Axes>"
            ],
            "image/png": "[encoded data removed]"
          },
          "metadata": {}
        }
      ]
    },
    {
      "cell_type": "code",
      "source": [
        "#1-2. 미숙아 여부에 따른 엄마 몸무게 평균차이에 대한 95% 신뢰구간을 계산하여라. \n",
        "from scipy import stats\n",
        "from itertools import permutations\n",
        "low_0_lwt =birthwt[birthwt['low']==0]['lwt']\n",
        "low_1_lwt =birthwt[birthwt['low']==1]['lwt']\n",
        "\n",
        "\n",
        "mean1, std1, n1 = low_0_lwt.mean(), low_0_lwt.std(), len(low_0_lwt)\n",
        "mean2, std2, n2 = low_1_lwt.mean(), low_1_lwt.std(), len(low_1_lwt)\n",
        "\n",
        "t_stat, p_value = stats.ttest_ind_from_stats(mean1, std1, n1, mean2, std2, n2)\n",
        "\n",
        "ci_low, ci_high = stats.t.interval(alpha=0.95, df=n1+n2-2, loc=mean1-mean2, scale=np.sqrt((std1**2+std2**2)/n1))\n",
        "\n",
        "print(\"두 집단의 평균 차이는\", round(mean1-mean2, 2), \"입니다.\")\n",
        "print(\"t-test 결과 p-value는\", round(p_value, 4), \"입니다.\")\n",
        "print(\"95% 신뢰 구간은 [\", round(ci_low, 2), \",\", round(ci_high, 2), \"] 입니다.\")\n"
      ],
      "metadata": {
        "colab": {
          "base_uri": "https://localhost:8080/"
        },
        "id": "93vjOveR7d5m",
        "outputId": "47d398b7-55de-422c-e859-86e83c7e9261"
      },
      "execution_count": 28,
      "outputs": [
        {
          "output_type": "stream",
          "name": "stdout",
          "text": [
            "두 집단의 평균 차이는 11.16 입니다.\n",
            "t-test 결과 p-value는 0.0196 입니다.\n",
            "95% 신뢰 구간은 [ 4.01 , 18.32 ] 입니다.\n"
          ]
        },
        {
          "output_type": "stream",
          "name": "stderr",
          "text": [
            "<ipython-input-28-a61528eaa2f6>:13: DeprecationWarning: Use of keyword argument 'alpha' for method 'interval' is deprecated and wil be removed in SciPy 1.11.0. Use first positional argument or keyword argument 'confidence' instead.\n",
            "  ci_low, ci_high = stats.t.interval(alpha=0.95, df=n1+n2-2, loc=mean1-mean2, scale=np.sqrt((std1**2+std2**2)/n1))\n"
          ]
        }
      ]
    },
    {
      "cell_type": "code",
      "source": [
        "#1-3. 미숙아 여부에 따른 엄마 몸무게 평균차이에 대한 95% 부트스르랩 신뢰구간을 계산하여라.\n",
        "def bootstrap_diff_confidence_interval(x, y, n_iter=1000, alpha=0.05):\n",
        "    \"\"\"\n",
        "    x, y: 두 개의 샘플 데이터\n",
        "    n_iter: 부트스트랩 샘플링 횟수\n",
        "    alpha: 유의 수준\n",
        "    \"\"\"\n",
        "    # 두 샘플의 평균 차이 계산\n",
        "    obs_diff = np.mean(x) - np.mean(y)\n",
        "    \n",
        "    # 전체 데이터를 합쳐서 부트스트랩 샘플링에 사용\n",
        "    data = np.concatenate((x, y))\n",
        "    \n",
        "    # 부트스트랩 샘플링 및 평균 차이 계산\n",
        "    diffs = []\n",
        "    for i in range(n_iter):\n",
        "        sample_x = np.random.choice(data, size=len(x), replace=True)\n",
        "        sample_y = np.random.choice(data, size=len(y), replace=True)\n",
        "        diff = np.mean(sample_x) - np.mean(sample_y)\n",
        "        diffs.append(diff)\n",
        "    \n",
        "    # 신뢰구간 계산\n",
        "    lower = np.percentile(diffs, (alpha / 2) * 100)\n",
        "    upper = np.percentile(diffs, (1 - alpha / 2) * 100)\n",
        "    \n",
        "    # 신뢰구간이 0을 포함하는지 여부에 따라 p-value 계산\n",
        "    p_value = 2 * min(np.mean(np.array(diffs) <= 0), np.mean(np.array(diffs) > 0))\n",
        "\n",
        "    \n",
        "    return obs_diff, p_value, (lower, upper)\n",
        "\n",
        "\n",
        "b_low_lwt_test =bootstrap_diff_confidence_interval(low_0_lwt,low_1_lwt)\n",
        "b_low_lwt_test"
      ],
      "metadata": {
        "colab": {
          "base_uri": "https://localhost:8080/"
        },
        "id": "E1jiJUPo5sjB",
        "outputId": "7c5bf894-83cb-4fac-c82f-d279b04df5a3"
      },
      "execution_count": 29,
      "outputs": [
        {
          "output_type": "execute_result",
          "data": {
            "text/plain": [
              "(11.164406779661022, 0.988, (-9.156121251629736, 8.839771838331158))"
            ]
          },
          "metadata": {},
          "execution_count": 29
        }
      ]
    },
    {
      "cell_type": "code",
      "source": [
        "#1-4. 미숙아 여부에 따른 엄마 몸무게 평균차이에 대한 통계적 유의성 검정을 수행하여라. \n",
        "from scipy.stats import t\n",
        "\n",
        "def welch_ttest(x, y, alpha=0.05):\n",
        "    \"\"\"\n",
        "    Welch's t-test를 수행하고, p-value와 유의수준 alpha에서의 신뢰구간을 반환합니다.\n",
        "    \"\"\"\n",
        "    # 각 샘플의 평균, 표준편차, 샘플 크기 계산\n",
        "    x_mean = np.mean(x)\n",
        "    y_mean = np.mean(y)\n",
        "    x_std = np.std(x, ddof=1)\n",
        "    y_std = np.std(y, ddof=1)\n",
        "    x_size = len(x)\n",
        "    y_size = len(y)\n",
        "    \n",
        "    # t-value 계산\n",
        "    t_value = (x_mean - y_mean) / np.sqrt((x_std ** 2 / x_size) + (y_std ** 2 / y_size))\n",
        "    \n",
        "    # 자유도 계산\n",
        "    df = ((x_std ** 2 / x_size) + (y_std ** 2 / y_size)) ** 2 / ((x_std ** 2 / x_size) ** 2 / (x_size - 1) + (y_std ** 2 / y_size) ** 2 / (y_size - 1))\n",
        "    \n",
        "    # p-value 계산\n",
        "    p_value = (1 - t.cdf(np.abs(t_value), df)) * 2\n",
        "    \n",
        "    # 신뢰구간 계산\n",
        "    se = np.sqrt((x_std ** 2 / x_size) + (y_std ** 2 / y_size))\n",
        "    margin_error = t.ppf(1 - alpha / 2, df) * se\n",
        "    lower = (x_mean - y_mean) - margin_error\n",
        "    upper = (x_mean - y_mean) + margin_error\n",
        "    \n",
        "    return t_value, p_value, (lower, upper)\n",
        "\n",
        "t_test =welch_ttest(low_0_lwt,low_1_lwt)\n",
        "t_test"
      ],
      "metadata": {
        "colab": {
          "base_uri": "https://localhost:8080/"
        },
        "id": "04GgQgfP78Ua",
        "outputId": "d46e667c-5c62-497b-b742-3cbfb6e70739"
      },
      "execution_count": 30,
      "outputs": [
        {
          "output_type": "execute_result",
          "data": {
            "text/plain": [
              "(2.51553416666028,\n",
              " 0.013080334179202735,\n",
              " (2.3855195659568125, 19.94329399336523))"
            ]
          },
          "metadata": {},
          "execution_count": 30
        }
      ]
    },
    {
      "cell_type": "code",
      "source": [
        "#1-5. 1-3에서 수행한 검정을 순열검정으로 다시 수행한 후 이 결과를 1-3의 결과와 비교하여라.\n",
        "import numpy as np\n",
        "from itertools import permutations, islice\n",
        "\n",
        "low_0_lwt =birthwt[birthwt['low']==0]['lwt'].tolist()\n",
        "low_1_lwt =birthwt[birthwt['low']==1]['lwt'].tolist()\n",
        "\n",
        "\n",
        "def permutation_test(x, y, n_perm=1000, alpha=0.05):\n",
        "    \"\"\"\n",
        "    x, y: 두 개의 샘플 데이터\n",
        "    n_perm: 순열 생성 횟수\n",
        "    alpha: 유의 수준\n",
        "    \"\"\"\n",
        "    # 두 샘플의 평균 차이 계산\n",
        "    obs_diff = np.mean(x) - np.mean(y)\n",
        "    \n",
        "    # 두 샘플을 합쳐 전체 데이터를 만듦\n",
        "    data = np.concatenate((x, y))\n",
        "    \n",
        "    # 순열 생성 및 검정\n",
        "    perm_diffs = []\n",
        "    for i in range(n_perm):\n",
        "        perm_data = np.random.permutation(data)\n",
        "        perm_x = list(islice(perm_data, len(x)))\n",
        "        perm_y = list(islice(perm_data, len(y)))\n",
        "        perm_diffs.append(np.mean(perm_x) - np.mean(perm_y))\n",
        "\n",
        "    # p-value 계산\n",
        "    p_value = np.round(np.sum(np.abs(perm_diffs) >= np.abs(obs_diff)) / n_perm, 5)\n",
        "\n",
        "    \n",
        "    # 신뢰구간 계산\n",
        "    lower = np.percentile(perm_diffs, (alpha / 2) * 100)\n",
        "    upper = np.percentile(perm_diffs, (1 - alpha / 2) * 100)\n",
        "    \n",
        "    return obs_diff, p_value, (lower, upper)\n",
        "\n",
        "\n",
        "low_lwt_test = permutation_test(low_0_lwt, low_1_lwt)\n",
        "print(f\"{low_lwt_test[0]:.5f}, {low_lwt_test[1]:.5f}, ({low_lwt_test[2][0]:.5f}, {low_lwt_test[2][1]:.5f})\")\n"
      ],
      "metadata": {
        "colab": {
          "base_uri": "https://localhost:8080/"
        },
        "id": "Y0bmo6iVgDEj",
        "outputId": "cae7e43e-739c-4428-a035-b3f8a23dba80"
      },
      "execution_count": 41,
      "outputs": [
        {
          "output_type": "stream",
          "name": "stdout",
          "text": [
            "11.16441, 0.00000, (-5.39397, 5.44160)\n"
          ]
        }
      ]
    },
    {
      "cell_type": "code",
      "source": [
        "#2교재 표 3-2는 2*2 분할표 자료이다. \n",
        "# 이 자료를 가지고 전환 결과와 가격 두 변수 간 연관성이 있는지 여부를 검정하기 위한 카이제곱 검정을 수행하여라. \n",
        "# 또한 Fisher의 정확검정도 함께 수행하고 두 결과를 비교하여라. \n",
        "\n",
        "import numpy as np\n",
        "from scipy.stats import chi2_contingency\n",
        "\n",
        "observed = np.array([[200, 23539], [182, 22406]])\n",
        "chi2, p_value, dof, expected = chi2_contingency(observed)\n",
        "\n",
        "print(f\"카이제곱 검정 결과: chi2 = {chi2:.4f}, p-value = {p_value:.4f}\")"
      ],
      "metadata": {
        "colab": {
          "base_uri": "https://localhost:8080/"
        },
        "id": "sbFcPo9Y8NTM",
        "outputId": "dda478e0-8ae9-401e-c64d-82160f202b90"
      },
      "execution_count": 49,
      "outputs": [
        {
          "output_type": "stream",
          "name": "stdout",
          "text": [
            "카이제곱 검정 결과: chi2 = 0.1489, p-value = 0.6996\n"
          ]
        }
      ]
    },
    {
      "cell_type": "code",
      "source": [
        "import scipy.stats as stats\n",
        "\n",
        "# contingency table 생성\n",
        "cont_table = [[200, 23539], [182, 22406]]\n",
        "\n",
        "# Fisher's exact test 수행\n",
        "odds_ratio, pvalue = stats.fisher_exact(cont_table)\n",
        "\n",
        "print(\"Odds ratio:\", odds_ratio)\n",
        "print(\"p-value:\", pvalue)\n"
      ],
      "metadata": {
        "colab": {
          "base_uri": "https://localhost:8080/"
        },
        "id": "h7xUWHls_7MH",
        "outputId": "c701dcc0-1688-4aa1-e1cc-fa70b26cf9a9"
      },
      "execution_count": 34,
      "outputs": [
        {
          "output_type": "stream",
          "name": "stdout",
          "text": [
            "Odds ratio: 1.0460078177483334\n",
            "p-value: 0.6811282492348564\n"
          ]
        }
      ]
    },
    {
      "cell_type": "code",
      "source": [
        "#3'Feed' 데이터를 사용하여 아래의 내용을 검증하고 적합한 가설 검정을 수행하여라. \n",
        "#돼지 19마리가 무작위로 4개의 실험 그룹에 할당되었고, 각 그룹은 서로 다른 식단을 제공받는다. \n",
        "#데이터는 돼지의 체중이며, 단위는 킬로그램(kg)이다. 그룹별로 다른 식단을 먹고 자란 돼지의 체중이 4종류의 식단에서 모두 동일한지 여부를 조사하고자 한다. \n",
        "#(필요한 경우, 데이터는 분석을 위해 적절하게 처리될 수 있다.)\n",
        "import pandas as pd\n",
        "import matplotlib.pyplot as plt\n",
        "\n",
        "df = pd.read_csv('feed.csv')\n",
        "\n",
        "df.boxplot()\n",
        "plt.xlabel('Feed')\n",
        "plt.ylabel('Weight (kg)')\n",
        "plt.show()\n"
      ],
      "metadata": {
        "colab": {
          "base_uri": "https://localhost:8080/",
          "height": 449
        },
        "id": "-drN1adrA2Po",
        "outputId": "1fc60da3-cec9-4b0d-fc2c-f77d63bdf195"
      },
      "execution_count": 45,
      "outputs": [
        {
          "output_type": "display_data",
          "data": {
            "text/plain": [
              "<Figure size 640x480 with 1 Axes>"
            ],
            "image/png": "[encoded data removed]"
          },
          "metadata": {}
        }
      ]
    },
    {
      "cell_type": "code",
      "source": [
        "# 이상치(outlier) 제거\n",
        "df = df.dropna()\n",
        "\n",
        "# 각 그룹별로 데이터 추출\n",
        "feed1 = df['Feed1'].tolist()\n",
        "feed2 = df['Feed2'].tolist()\n",
        "feed3 = df['Feed3'].tolist()\n",
        "feed4 = df['Feed4'].tolist()\n",
        "\n",
        "# ANOVA 검정 수행\n",
        "from scipy.stats import f_oneway\n",
        "\n",
        "F_statistic, p_value = f_oneway(feed1, feed2, feed3, feed4)\n",
        "print('F statistic:', F_statistic)\n",
        "print('p-value:', p_value)\n"
      ],
      "metadata": {
        "colab": {
          "base_uri": "https://localhost:8080/"
        },
        "id": "NzMj3Bw2ErSt",
        "outputId": "0b5ab335-ed86-49f3-8115-b1d52ff05456"
      },
      "execution_count": 46,
      "outputs": [
        {
          "output_type": "stream",
          "name": "stdout",
          "text": [
            "F statistic: 8.212901870140781\n",
            "p-value: 0.003068882135049821\n"
          ]
        }
      ]
    },
    {
      "cell_type": "code",
      "source": [
        "from scipy.stats import f_oneway\n",
        "\n",
        "# 각 그룹의 체중 데이터\n",
        "group1 = [60.8, 67.0, 65.0, 68.6, 61.7]\n",
        "group2 = [68.7, 67.7, 75.0, 73.3, 71.8]\n",
        "group3 = [69.6, 77.1, 75.2, 71.5]\n",
        "group4 = [61.9, 64.2, 63.1, 66.7, 60.3]\n",
        "\n",
        "# 일원 분산 분석 수행\n",
        "f_statistic, p_value = f_oneway(group1, group2, group3, group4)\n",
        "\n",
        "# 결과 출력\n",
        "print(\"F-statistic: {:.2f}\".format(f_statistic))\n",
        "print(\"p-value: {:.4f}\".format(p_value))\n"
      ],
      "metadata": {
        "colab": {
          "base_uri": "https://localhost:8080/"
        },
        "id": "7xMqXHg1FZiB",
        "outputId": "f60bd9db-0d4f-44a0-a970-dff674f8187c"
      },
      "execution_count": 47,
      "outputs": [
        {
          "output_type": "stream",
          "name": "stdout",
          "text": [
            "F-statistic: 12.04\n",
            "p-value: 0.0003\n"
          ]
        }
      ]
    },
    {
      "cell_type": "code",
      "source": [],
      "metadata": {
        "id": "GjaXpcz8GRPH"
      },
      "execution_count": null,
      "outputs": []
    }
  ]
}